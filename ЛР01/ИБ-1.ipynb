{
 "cells": [
  {
   "cell_type": "code",
   "execution_count": 5,
   "id": "0965a7d5",
   "metadata": {},
   "outputs": [],
   "source": [
    "def cesar(text, step):\n",
    "    liters = 'абвгдеёжзийклмнопрстуфхцчшщъыьэюяабвгдеёжзийклмнопрстуфхцчшщъыьэюя'\n",
    "    res = ''\n",
    "    for i in text:\n",
    "        index = liters.find(i)\n",
    "        new_index = index + step\n",
    "        if i in liters:\n",
    "            res += liters[new_index]\n",
    "        else:\n",
    "            res += i\n",
    "    return res\n",
    "\n",
    "def cesar_dec(text, step):\n",
    "    liters = 'абвгдеёжзийклмнопрстуфхцчшщъыьэюяабвгдеёжзийклмнопрстуфхцчшщъыьэюя'\n",
    "    res = ''\n",
    "    for i in text:\n",
    "        index = liters.find(i)\n",
    "        new_index = index - step\n",
    "        if i in liters:\n",
    "            res += liters[new_index]\n",
    "        else:\n",
    "            res += i\n",
    "    return res"
   ]
  },
  {
   "cell_type": "code",
   "execution_count": 6,
   "id": "e8a93a2a",
   "metadata": {},
   "outputs": [
    {
     "name": "stdout",
     "output_type": "stream",
     "text": [
      "я люблю рудн : д ргёрг хшит : я люблю рудн\n"
     ]
    }
   ],
   "source": [
    "s = 'я люблю рудн'\n",
    "print(f'{s} : {cesar(s, 5)} : {cesar_dec(cesar(s, 5), 5)}')"
   ]
  },
  {
   "cell_type": "code",
   "execution_count": 7,
   "id": "208dce3f",
   "metadata": {},
   "outputs": [],
   "source": [
    "def atbash(text):\n",
    "    liters = 'абвгдеёжзийклмнопрстуфхцчшщъыьэюя'\n",
    "    liters_r = [x for x in liters]\n",
    "    liters_r.reverse()\n",
    "    res = ''\n",
    "    for i in text:\n",
    "        for j,l in enumerate(liters):\n",
    "            if i==l:\n",
    "                res += liters_r[j]\n",
    "    return res\n",
    "\n",
    "def atbash_dec(text):\n",
    "    liters = 'абвгдеёжзийклмнопрстуфхцчшщъыьэюя'\n",
    "    liters_r = [x for x in liters]\n",
    "    liters_r.reverse()\n",
    "    res = ''\n",
    "    for i in text:\n",
    "        for j,l in enumerate(liters_r):\n",
    "            if i==l:\n",
    "                res += liters[j]\n",
    "    return res"
   ]
  },
  {
   "cell_type": "code",
   "execution_count": 8,
   "id": "d9ecec29",
   "metadata": {},
   "outputs": [
    {
     "name": "stdout",
     "output_type": "stream",
     "text": [
      "я люблю рудн : аубюуболыс : ялюблюрудн\n"
     ]
    }
   ],
   "source": [
    "s = 'я люблю рудн'\n",
    "print(f'{s} : {atbash(s)} : {atbash_dec(atbash(s))}')"
   ]
  },
  {
   "cell_type": "code",
   "execution_count": null,
   "id": "e56fc113",
   "metadata": {},
   "outputs": [],
   "source": []
  }
 ],
 "metadata": {
  "kernelspec": {
   "display_name": "Python 3 (ipykernel)",
   "language": "python",
   "name": "python3"
  },
  "language_info": {
   "codemirror_mode": {
    "name": "ipython",
    "version": 3
   },
   "file_extension": ".py",
   "mimetype": "text/x-python",
   "name": "python",
   "nbconvert_exporter": "python",
   "pygments_lexer": "ipython3",
   "version": "3.9.9"
  }
 },
 "nbformat": 4,
 "nbformat_minor": 5
}
